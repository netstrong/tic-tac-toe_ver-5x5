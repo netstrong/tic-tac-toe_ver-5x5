from enum import Enum
import random

PLAYER = "X"
COMPUTER = "O"
EMPTY = "_"
BOARD_SIZE = 5

class GameState(Enum):
    Tie = "Tie"
    NotEnd = "notEnd"
    O = "O"  # Computer won
    X = "X"  # Player won

class Board:
    def __init__(self, size):
        self.size = size
        self.board = [[EMPTY for _ in range(size)] for _ in range(size)]
        self.last_move = None

    def print(self):
        for row in self.board:
            print(" ".join(row))

    def get(self, position):
        row, col = self.get_position(position)
        return self.board[row][col]

    def get_position(self, position):
        column = position % self.size
        row = position // self.size
        return row, column

    def is_empty(self, position):
        return self.get(position) == EMPTY

    def draw(self, player, position):
        self.last_move = position
        row, col = self.get_position(position)
        self.board[row][col] = player

class Game:
    def __init__(self, board_size):
        self.board = Board(board_size)
        self.turn = random.choice([PLAYER, COMPUTER])
        self.computer_first_move = None if self.turn == PLAYER else random.randrange(board_size ** 2)

    def start(self):
        while True:
            self.board.print()
            self.play_turn(self.turn)
            game_state = self.check_game_state()
            if game_state != GameState.NotEnd:
                self.board.print()
                if game_state == GameState.Tie:
                    print("It's a draw!")
                else:
                    print(f"{self.turn} won!")
                break
            self.turn = PLAYER if self.turn == COMPUTER else COMPUTER

    def play_turn(self, player):
        if player == PLAYER:
            move = self.get_player_move()
        else:
            move = self.get_computer_move()
        self.board.draw(player, move)

    def get_player_move(self):
        while True:
            try:
                move = int(input(f"{self.turn}, enter your move (0-{self.board.size**2-1}): "))
                if not 0 <= move <= self.board.size**2-1:
                    raise ValueError(f"Invalid move. Please choose a position between 0 and {self.board.size**2-1}.")
                if not self.board.is_empty(move):
                    raise ValueError("This position is already taken.")
                return move
            except ValueError as e:
                print(e)
            except Exception as e:
                print("Unknown error.")

    def get_computer_move(self):
        # Implement your minimax or other AI algorithm here
        # Replace this with your logic for choosing the best move for the computer
        # based on the current board state
        return 0  # This is just a placeholder, replace it with your actual logic

    def check_game_state(self):
        # Implement your logic for checking the game state
        # (win, tie, or not end) based on the current board
        return GameState.NotEnd

# Start the game
game = Game(BOARD_SIZE)
game.start()
